{
 "cells": [
  {
   "attachments": {},
   "cell_type": "markdown",
   "metadata": {},
   "source": [
    "## Imports"
   ]
  },
  {
   "cell_type": "code",
   "execution_count": 3,
   "metadata": {},
   "outputs": [],
   "source": [
    "# to było mi potrzebne, aby zadziałała funkcja pobierająca fmnista\n",
    "\n",
    "# import ssl\n",
    "\n",
    "# ssl._create_default_https_context = ssl._create_unverified_context"
   ]
  },
  {
   "cell_type": "code",
   "execution_count": 4,
   "metadata": {},
   "outputs": [],
   "source": [
    "import numpy as np\n",
    "import matplotlib.pyplot as plt"
   ]
  },
  {
   "cell_type": "code",
   "execution_count": 20,
   "metadata": {},
   "outputs": [],
   "source": [
    "# konieczne, zeby updatowac zmiany w skrypcie bez restartu calego kernela\n",
    "from centroids import compute_centroids\n",
    "\n",
    "import importlib, sys\n",
    "importlib.reload(sys.modules['centroids'])\n",
    "from centroids import compute_centroids"
   ]
  },
  {
   "attachments": {},
   "cell_type": "markdown",
   "metadata": {},
   "source": [
    "## Dataset"
   ]
  },
  {
   "cell_type": "code",
   "execution_count": 3,
   "metadata": {},
   "outputs": [],
   "source": [
    "from keras.datasets import fashion_mnist\n",
    "\n",
    "# Loading dataset\n",
    "(train_images, train_labels), (test_images, test_labels) = fashion_mnist.load_data()"
   ]
  },
  {
   "cell_type": "code",
   "execution_count": 5,
   "metadata": {},
   "outputs": [
    {
     "name": "stdout",
     "output_type": "stream",
     "text": [
      "(60000, 28, 28)\n",
      "(10000, 28, 28)\n",
      "(60000, 784)\n",
      "(10000, 784)\n"
     ]
    }
   ],
   "source": [
    "print(train_images.shape)\n",
    "print(test_images.shape)\n",
    "X_train = train_images.reshape(train_images.shape[0], -1)\n",
    "X_test = test_images.reshape(test_images.shape[0], -1)\n",
    "print(X_train.shape)\n",
    "print(X_test.shape)"
   ]
  },
  {
   "cell_type": "code",
   "execution_count": 6,
   "metadata": {},
   "outputs": [],
   "source": [
    "y_train, y_test= train_labels, test_labels"
   ]
  },
  {
   "cell_type": "code",
   "execution_count": 7,
   "metadata": {},
   "outputs": [
    {
     "name": "stdout",
     "output_type": "stream",
     "text": [
      "(60000,)\n",
      "(10000,)\n"
     ]
    }
   ],
   "source": [
    "print(y_train.shape)\n",
    "print(y_test.shape)"
   ]
  },
  {
   "cell_type": "code",
   "execution_count": 8,
   "metadata": {},
   "outputs": [
    {
     "name": "stdout",
     "output_type": "stream",
     "text": [
      "{0, 1, 2, 3, 4, 5, 6, 7, 8, 9}\n",
      "{0, 1, 2, 3, 4, 5, 6, 7, 8, 9}\n"
     ]
    }
   ],
   "source": [
    "print(set(y_train))\n",
    "print(set(y_test))"
   ]
  },
  {
   "attachments": {},
   "cell_type": "markdown",
   "metadata": {},
   "source": [
    "## Kmeans global centroids"
   ]
  },
  {
   "cell_type": "code",
   "execution_count": 21,
   "metadata": {},
   "outputs": [
    {
     "name": "stderr",
     "output_type": "stream",
     "text": [
      "/Users/justynamastek/Desktop/Studia/DS/Semestr_1/Wizualizacje/Projekt/Centroid-based-supervised-visualization/.env/lib/python3.10/site-packages/sklearn/cluster/_kmeans.py:870: FutureWarning: The default value of `n_init` will change from 10 to 'auto' in 1.4. Set the value of `n_init` explicitly to suppress the warning\n",
      "  warnings.warn(\n"
     ]
    }
   ],
   "source": [
    "centroids=compute_centroids(\"kmeans\", \"global\", X_train, y_train, 0, 100)"
   ]
  },
  {
   "cell_type": "code",
   "execution_count": 22,
   "metadata": {},
   "outputs": [
    {
     "name": "stdout",
     "output_type": "stream",
     "text": [
      "[[-1.08420217e-19  4.62962963e-03  1.20370370e-01 ...  7.33796296e-01\n",
      "   4.88425926e-01  2.61574074e-01]\n",
      " [ 3.25260652e-19  6.93889390e-18  5.55111512e-17 ...  1.97146563e-01\n",
      "  -1.33226763e-15 -6.93889390e-17]\n",
      " [ 3.25260652e-19  9.54097912e-18  5.89805982e-17 ...  4.44089210e-16\n",
      "  -1.33226763e-15 -6.93889390e-17]\n",
      " ...\n",
      " [ 2.16840434e-19  1.10192837e-02  1.04683196e-01 ...  3.08842975e+01\n",
      "   3.11845730e+00  7.98898072e-02]\n",
      " [-3.25260652e-19  6.93889390e-18  3.81639165e-17 ...  0.00000000e+00\n",
      "  -5.55111512e-16  1.38777878e-17]\n",
      " [-3.25260652e-19  3.08641975e-02  3.08641975e-02 ...  4.14197531e+00\n",
      "   2.59259259e+00  5.76131687e-02]]\n"
     ]
    }
   ],
   "source": [
    "print(centroids)"
   ]
  },
  {
   "cell_type": "code",
   "execution_count": 23,
   "metadata": {},
   "outputs": [
    {
     "name": "stdout",
     "output_type": "stream",
     "text": [
      "<class 'numpy.ndarray'>\n",
      "(100, 784)\n"
     ]
    }
   ],
   "source": [
    "print(type(centroids))\n",
    "print(centroids.shape)"
   ]
  },
  {
   "attachments": {},
   "cell_type": "markdown",
   "metadata": {},
   "source": [
    "## Kmeans local centroids"
   ]
  },
  {
   "cell_type": "code",
   "execution_count": 24,
   "metadata": {},
   "outputs": [
    {
     "name": "stderr",
     "output_type": "stream",
     "text": [
      "/Users/justynamastek/Desktop/Studia/DS/Semestr_1/Wizualizacje/Projekt/Centroid-based-supervised-visualization/.env/lib/python3.10/site-packages/sklearn/cluster/_kmeans.py:870: FutureWarning: The default value of `n_init` will change from 10 to 'auto' in 1.4. Set the value of `n_init` explicitly to suppress the warning\n",
      "  warnings.warn(\n",
      "/Users/justynamastek/Desktop/Studia/DS/Semestr_1/Wizualizacje/Projekt/Centroid-based-supervised-visualization/.env/lib/python3.10/site-packages/sklearn/cluster/_kmeans.py:870: FutureWarning: The default value of `n_init` will change from 10 to 'auto' in 1.4. Set the value of `n_init` explicitly to suppress the warning\n",
      "  warnings.warn(\n",
      "/Users/justynamastek/Desktop/Studia/DS/Semestr_1/Wizualizacje/Projekt/Centroid-based-supervised-visualization/.env/lib/python3.10/site-packages/sklearn/cluster/_kmeans.py:870: FutureWarning: The default value of `n_init` will change from 10 to 'auto' in 1.4. Set the value of `n_init` explicitly to suppress the warning\n",
      "  warnings.warn(\n",
      "/Users/justynamastek/Desktop/Studia/DS/Semestr_1/Wizualizacje/Projekt/Centroid-based-supervised-visualization/.env/lib/python3.10/site-packages/sklearn/cluster/_kmeans.py:870: FutureWarning: The default value of `n_init` will change from 10 to 'auto' in 1.4. Set the value of `n_init` explicitly to suppress the warning\n",
      "  warnings.warn(\n",
      "/Users/justynamastek/Desktop/Studia/DS/Semestr_1/Wizualizacje/Projekt/Centroid-based-supervised-visualization/.env/lib/python3.10/site-packages/sklearn/cluster/_kmeans.py:870: FutureWarning: The default value of `n_init` will change from 10 to 'auto' in 1.4. Set the value of `n_init` explicitly to suppress the warning\n",
      "  warnings.warn(\n",
      "/Users/justynamastek/Desktop/Studia/DS/Semestr_1/Wizualizacje/Projekt/Centroid-based-supervised-visualization/.env/lib/python3.10/site-packages/sklearn/cluster/_kmeans.py:870: FutureWarning: The default value of `n_init` will change from 10 to 'auto' in 1.4. Set the value of `n_init` explicitly to suppress the warning\n",
      "  warnings.warn(\n",
      "/Users/justynamastek/Desktop/Studia/DS/Semestr_1/Wizualizacje/Projekt/Centroid-based-supervised-visualization/.env/lib/python3.10/site-packages/sklearn/cluster/_kmeans.py:870: FutureWarning: The default value of `n_init` will change from 10 to 'auto' in 1.4. Set the value of `n_init` explicitly to suppress the warning\n",
      "  warnings.warn(\n",
      "/Users/justynamastek/Desktop/Studia/DS/Semestr_1/Wizualizacje/Projekt/Centroid-based-supervised-visualization/.env/lib/python3.10/site-packages/sklearn/cluster/_kmeans.py:870: FutureWarning: The default value of `n_init` will change from 10 to 'auto' in 1.4. Set the value of `n_init` explicitly to suppress the warning\n",
      "  warnings.warn(\n",
      "/Users/justynamastek/Desktop/Studia/DS/Semestr_1/Wizualizacje/Projekt/Centroid-based-supervised-visualization/.env/lib/python3.10/site-packages/sklearn/cluster/_kmeans.py:870: FutureWarning: The default value of `n_init` will change from 10 to 'auto' in 1.4. Set the value of `n_init` explicitly to suppress the warning\n",
      "  warnings.warn(\n",
      "/Users/justynamastek/Desktop/Studia/DS/Semestr_1/Wizualizacje/Projekt/Centroid-based-supervised-visualization/.env/lib/python3.10/site-packages/sklearn/cluster/_kmeans.py:870: FutureWarning: The default value of `n_init` will change from 10 to 'auto' in 1.4. Set the value of `n_init` explicitly to suppress the warning\n",
      "  warnings.warn(\n"
     ]
    }
   ],
   "source": [
    "centroids=compute_centroids(\"kmeans\", \"local\", X_train, y_train, 10, 0)"
   ]
  },
  {
   "cell_type": "code",
   "execution_count": 25,
   "metadata": {},
   "outputs": [
    {
     "name": "stdout",
     "output_type": "stream",
     "text": [
      "[[-2.16840434e-19  1.02669405e-02  8.00821355e-02 ...  2.73100616e-01\n",
      "   9.24024641e-03 -4.85722573e-17]\n",
      " [ 2.34741784e-03  9.85915493e-02  4.03755869e-01 ...  2.91079812e-01\n",
      "   6.33802817e-02  1.64319249e-02]\n",
      " [-2.16840434e-18 -1.73472348e-17  1.67938931e-02 ...  1.98473282e-02\n",
      "   9.16030534e-03 -1.73472348e-17]\n",
      " ...\n",
      " [ 0.00000000e+00 -1.73472348e-18 -1.73472348e-18 ... -8.88178420e-15\n",
      "   2.22044605e-15  5.55111512e-17]\n",
      " [ 0.00000000e+00  0.00000000e+00  0.00000000e+00 ... -9.76996262e-15\n",
      "   3.10862447e-15  5.55111512e-17]\n",
      " [ 0.00000000e+00 -6.07153217e-18 -6.07153217e-18 ...  8.02568218e-03\n",
      "   9.63081862e-03  1.44462279e-02]]\n"
     ]
    }
   ],
   "source": [
    "print(centroids)"
   ]
  },
  {
   "cell_type": "code",
   "execution_count": 26,
   "metadata": {},
   "outputs": [
    {
     "name": "stdout",
     "output_type": "stream",
     "text": [
      "<class 'numpy.ndarray'>\n",
      "(100, 784)\n"
     ]
    }
   ],
   "source": [
    "print(type(centroids))\n",
    "print(centroids.shape)"
   ]
  }
 ],
 "metadata": {
  "kernelspec": {
   "display_name": ".env",
   "language": "python",
   "name": "python3"
  },
  "language_info": {
   "codemirror_mode": {
    "name": "ipython",
    "version": 3
   },
   "file_extension": ".py",
   "mimetype": "text/x-python",
   "name": "python",
   "nbconvert_exporter": "python",
   "pygments_lexer": "ipython3",
   "version": "3.10.1"
  },
  "orig_nbformat": 4
 },
 "nbformat": 4,
 "nbformat_minor": 2
}
