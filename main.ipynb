{
 "cells": [
  {
   "attachments": {},
   "cell_type": "markdown",
   "metadata": {},
   "source": [
    "## Imports"
   ]
  },
  {
   "cell_type": "code",
   "execution_count": 1,
   "metadata": {},
   "outputs": [],
   "source": [
    "# to było mi potrzebne, aby zadziałała funkcja pobierająca fmnista\n",
    "\n",
    "# import ssl\n",
    "\n",
    "# ssl._create_default_https_context = ssl._create_unverified_context"
   ]
  },
  {
   "cell_type": "code",
   "execution_count": 2,
   "metadata": {},
   "outputs": [],
   "source": [
    "import numpy as np\n",
    "import matplotlib.pyplot as plt"
   ]
  },
  {
   "cell_type": "code",
   "execution_count": 3,
   "metadata": {},
   "outputs": [],
   "source": [
    "# konieczne, zeby updatowac zmiany w skrypcie bez restartu calego kernela\n",
    "from centroids import compute_centroids\n",
    "\n",
    "import importlib, sys\n",
    "importlib.reload(sys.modules['centroids'])\n",
    "from centroids import compute_centroids"
   ]
  },
  {
   "attachments": {},
   "cell_type": "markdown",
   "metadata": {},
   "source": [
    "## Dataset"
   ]
  },
  {
   "cell_type": "code",
   "execution_count": 4,
   "metadata": {},
   "outputs": [],
   "source": [
    "from keras.datasets import fashion_mnist\n",
    "\n",
    "# Loading dataset\n",
    "(train_images, train_labels), (test_images, test_labels) = fashion_mnist.load_data()"
   ]
  },
  {
   "cell_type": "code",
   "execution_count": 5,
   "metadata": {},
   "outputs": [
    {
     "name": "stdout",
     "output_type": "stream",
     "text": [
      "(60000, 28, 28)\n",
      "(10000, 28, 28)\n",
      "(60000, 784)\n",
      "(10000, 784)\n"
     ]
    }
   ],
   "source": [
    "print(train_images.shape)\n",
    "print(test_images.shape)\n",
    "X_train = train_images.reshape(train_images.shape[0], -1)\n",
    "X_test = test_images.reshape(test_images.shape[0], -1)\n",
    "print(X_train.shape)\n",
    "print(X_test.shape)"
   ]
  },
  {
   "cell_type": "code",
   "execution_count": 6,
   "metadata": {},
   "outputs": [],
   "source": [
    "y_train, y_test= train_labels, test_labels"
   ]
  },
  {
   "cell_type": "code",
   "execution_count": 7,
   "metadata": {},
   "outputs": [
    {
     "name": "stdout",
     "output_type": "stream",
     "text": [
      "(60000,)\n",
      "(10000,)\n"
     ]
    }
   ],
   "source": [
    "print(y_train.shape)\n",
    "print(y_test.shape)"
   ]
  },
  {
   "cell_type": "code",
   "execution_count": 8,
   "metadata": {},
   "outputs": [
    {
     "name": "stdout",
     "output_type": "stream",
     "text": [
      "{0, 1, 2, 3, 4, 5, 6, 7, 8, 9}\n",
      "{0, 1, 2, 3, 4, 5, 6, 7, 8, 9}\n"
     ]
    }
   ],
   "source": [
    "print(set(y_train))\n",
    "print(set(y_test))"
   ]
  },
  {
   "attachments": {},
   "cell_type": "markdown",
   "metadata": {},
   "source": [
    "## Kmeans global centroids"
   ]
  },
  {
   "cell_type": "code",
   "execution_count": 9,
   "metadata": {},
   "outputs": [],
   "source": [
    "centroids=compute_centroids(\"kmeans\", \"global\", X_train, y_train, 0, 100)"
   ]
  },
  {
   "cell_type": "code",
   "execution_count": 10,
   "metadata": {},
   "outputs": [
    {
     "name": "stdout",
     "output_type": "stream",
     "text": [
      "[[-5.42101086e-19  1.04083409e-17  4.85722573e-17 ...  3.81899110e+00\n",
      "   1.95845697e+00  1.48367953e-02]\n",
      " [ 2.73752013e-02  2.57648953e-02  2.57648953e-02 ...  9.17874396e-02\n",
      "   1.77133655e-02  1.77133655e-02]\n",
      " [ 0.00000000e+00  1.04083409e-17  2.50696379e-02 ...  3.55236769e+01\n",
      "   2.77158774e+00  1.28133705e-01]\n",
      " ...\n",
      " [-6.50521303e-19  6.92041522e-03  7.61245675e-02 ...  2.07231834e+01\n",
      "   1.68858131e+00  0.00000000e+00]\n",
      " [ 1.84314369e-18  8.50340136e-03  2.42861287e-17 ...  5.73129252e-01\n",
      "  -1.77635684e-15  5.55111512e-17]\n",
      " [ 2.81892565e-18  3.46944695e-18  3.75939850e-02 ...  1.00250627e-02\n",
      "   1.11022302e-15  1.94289029e-16]]\n"
     ]
    }
   ],
   "source": [
    "print(centroids)"
   ]
  },
  {
   "cell_type": "code",
   "execution_count": 11,
   "metadata": {},
   "outputs": [
    {
     "name": "stdout",
     "output_type": "stream",
     "text": [
      "<class 'numpy.ndarray'>\n",
      "(100, 784)\n"
     ]
    }
   ],
   "source": [
    "print(type(centroids))\n",
    "print(centroids.shape)"
   ]
  },
  {
   "attachments": {},
   "cell_type": "markdown",
   "metadata": {},
   "source": [
    "## Kmeans local centroids"
   ]
  },
  {
   "cell_type": "code",
   "execution_count": 12,
   "metadata": {},
   "outputs": [],
   "source": [
    "centroids=compute_centroids(\"kmeans\", \"local\", X_train, y_train, 10, 0)"
   ]
  },
  {
   "cell_type": "code",
   "execution_count": 13,
   "metadata": {},
   "outputs": [
    {
     "name": "stdout",
     "output_type": "stream",
     "text": [
      "[[-1.08420217e-18  1.34146341e-01  7.72357724e-01 ...  4.98373984e+00\n",
      "   1.40650407e+00  2.60162602e-01]\n",
      " [-2.81892565e-18  1.21580547e-02  8.40932118e-02 ...  2.69503546e-01\n",
      "   9.11854103e-03  2.60208521e-17]\n",
      " [ 4.33680869e-19  4.81347774e-03  6.97954272e-02 ...  1.22743682e-01\n",
      "   2.28640193e-02  1.20336943e-03]\n",
      " ...\n",
      " [ 0.00000000e+00  2.85714286e-02  2.85714286e-02 ...  4.04571429e+00\n",
      "   2.17714286e+00  1.77142857e-01]\n",
      " [ 0.00000000e+00 -2.77555756e-17 -2.77555756e-17 ...  1.77635684e-15\n",
      "  -9.32587341e-15  2.49800181e-16]\n",
      " [ 0.00000000e+00  6.93889390e-18  6.93889390e-18 ...  5.01945525e-01\n",
      "   3.30739300e-02  1.94552529e-02]]\n"
     ]
    }
   ],
   "source": [
    "print(centroids)"
   ]
  },
  {
   "attachments": {},
   "cell_type": "markdown",
   "metadata": {},
   "source": [
    "## Agglomerative clustering global centroids"
   ]
  },
  {
   "cell_type": "code",
   "execution_count": 14,
   "metadata": {},
   "outputs": [],
   "source": [
    "# wymaga poprawy\n",
    "# centroids=compute_centroids(\"agglomerative\", \"global\", X_train, y_train, 0, 1)"
   ]
  },
  {
   "cell_type": "code",
   "execution_count": 15,
   "metadata": {},
   "outputs": [],
   "source": [
    "# print(centroids)"
   ]
  },
  {
   "cell_type": "code",
   "execution_count": 16,
   "metadata": {},
   "outputs": [],
   "source": [
    "# print(centroids.shape)"
   ]
  },
  {
   "attachments": {},
   "cell_type": "markdown",
   "metadata": {},
   "source": [
    "## Agglomerative clustering local centroids"
   ]
  },
  {
   "cell_type": "code",
   "execution_count": 17,
   "metadata": {},
   "outputs": [],
   "source": [
    "centroids=compute_centroids(\"agglomerative\", \"local\", X_train, y_train, 10, 0)"
   ]
  },
  {
   "cell_type": "code",
   "execution_count": 18,
   "metadata": {},
   "outputs": [
    {
     "name": "stdout",
     "output_type": "stream",
     "text": [
      "[[0.00000000e+00 0.00000000e+00 0.00000000e+00 ... 2.20994475e-02\n",
      "  1.93370166e-02 1.93370166e-02]\n",
      " [0.00000000e+00 3.87931034e-02 1.93965517e-01 ... 4.07758621e+00\n",
      "  1.28017241e+00 2.80172414e-01]\n",
      " [0.00000000e+00 8.46432890e-03 3.99032648e-02 ... 3.14389359e-02\n",
      "  1.45102781e-02 0.00000000e+00]\n",
      " ...\n",
      " [0.00000000e+00 0.00000000e+00 0.00000000e+00 ... 0.00000000e+00\n",
      "  0.00000000e+00 0.00000000e+00]\n",
      " [0.00000000e+00 0.00000000e+00 0.00000000e+00 ... 2.11780105e+01\n",
      "  1.26701571e+01 1.19371728e+00]\n",
      " [0.00000000e+00 0.00000000e+00 0.00000000e+00 ... 6.50961538e+00\n",
      "  2.77884615e+00 2.40384615e-02]]\n"
     ]
    }
   ],
   "source": [
    "print(centroids)"
   ]
  },
  {
   "cell_type": "code",
   "execution_count": 19,
   "metadata": {},
   "outputs": [
    {
     "name": "stdout",
     "output_type": "stream",
     "text": [
      "(100, 784)\n"
     ]
    }
   ],
   "source": [
    "print(centroids.shape)"
   ]
  },
  {
   "attachments": {},
   "cell_type": "markdown",
   "metadata": {},
   "source": [
    "## DBSCAN global centroids"
   ]
  },
  {
   "cell_type": "code",
   "execution_count": 20,
   "metadata": {},
   "outputs": [
    {
     "name": "stdout",
     "output_type": "stream",
     "text": [
      "[-1 -1  0 ... -1  0  0]\n",
      "[-1  0  1  2]\n"
     ]
    }
   ],
   "source": [
    "# trzeba poszukac odpowiednich parametrow, bo obecnie algorytm nie zwraca praktycznie nic (defaultowo jest eps=0.5 i min_samples=5)\n",
    "centroids=compute_centroids(\"dbscan\", \"global\", X_train, y_train, 0, 1, epsilon=1000, min_samples=30)"
   ]
  },
  {
   "cell_type": "code",
   "execution_count": 21,
   "metadata": {},
   "outputs": [
    {
     "name": "stdout",
     "output_type": "stream",
     "text": [
      "[[0.000679   0.00135799 0.01425892 ... 0.22891878 0.01079928 0.00210166]\n",
      " [0.         0.         0.         ... 0.         0.         0.        ]\n",
      " [0.         0.         0.         ... 0.         0.         0.        ]]\n"
     ]
    }
   ],
   "source": [
    "print(centroids)"
   ]
  },
  {
   "cell_type": "code",
   "execution_count": 22,
   "metadata": {},
   "outputs": [
    {
     "name": "stdout",
     "output_type": "stream",
     "text": [
      "(3, 784)\n"
     ]
    }
   ],
   "source": [
    "print(centroids.shape)"
   ]
  },
  {
   "attachments": {},
   "cell_type": "markdown",
   "metadata": {},
   "source": [
    "## DBSCAN local centroids"
   ]
  },
  {
   "cell_type": "code",
   "execution_count": 23,
   "metadata": {},
   "outputs": [],
   "source": [
    "# trzeba poszukac parametrow\n",
    "centroids=compute_centroids(\"dbscan\", \"local\", X_train, y_train, epsilon=10, min_samples=30)"
   ]
  },
  {
   "cell_type": "code",
   "execution_count": 24,
   "metadata": {},
   "outputs": [
    {
     "name": "stdout",
     "output_type": "stream",
     "text": [
      "[]\n"
     ]
    }
   ],
   "source": [
    "print(centroids)"
   ]
  },
  {
   "cell_type": "code",
   "execution_count": 25,
   "metadata": {},
   "outputs": [
    {
     "name": "stdout",
     "output_type": "stream",
     "text": [
      "(0,)\n"
     ]
    }
   ],
   "source": [
    "print(centroids.shape)"
   ]
  }
 ],
 "metadata": {
  "kernelspec": {
   "display_name": ".env",
   "language": "python",
   "name": "python3"
  },
  "language_info": {
   "codemirror_mode": {
    "name": "ipython",
    "version": 3
   },
   "file_extension": ".py",
   "mimetype": "text/x-python",
   "name": "python",
   "nbconvert_exporter": "python",
   "pygments_lexer": "ipython3",
   "version": "3.10.7"
  },
  "orig_nbformat": 4
 },
 "nbformat": 4,
 "nbformat_minor": 2
}
